{
 "cells": [
  {
   "cell_type": "markdown",
   "metadata": {},
   "source": [
    "# Imports"
   ]
  },
  {
   "cell_type": "code",
   "execution_count": 240,
   "metadata": {},
   "outputs": [],
   "source": [
    "import pandas as pd\n",
    "import numpy as np\n",
    "import matplotlib.pyplot as plt"
   ]
  },
  {
   "cell_type": "code",
   "execution_count": 241,
   "metadata": {},
   "outputs": [],
   "source": [
    "df = pd.read_csv('Experiment_Result.csv')"
   ]
  },
  {
   "cell_type": "code",
   "execution_count": 242,
   "metadata": {},
   "outputs": [
    {
     "data": {
      "text/html": [
       "<div>\n",
       "<style scoped>\n",
       "    .dataframe tbody tr th:only-of-type {\n",
       "        vertical-align: middle;\n",
       "    }\n",
       "\n",
       "    .dataframe tbody tr th {\n",
       "        vertical-align: top;\n",
       "    }\n",
       "\n",
       "    .dataframe thead th {\n",
       "        text-align: right;\n",
       "    }\n",
       "</style>\n",
       "<table border=\"1\" class=\"dataframe\">\n",
       "  <thead>\n",
       "    <tr style=\"text-align: right;\">\n",
       "      <th></th>\n",
       "      <th>Unnamed: 0</th>\n",
       "      <th>block</th>\n",
       "      <th>stimulus_block</th>\n",
       "      <th>stimulus_side</th>\n",
       "      <th>key_press</th>\n",
       "      <th>responses</th>\n",
       "      <th>rt</th>\n",
       "      <th>stimulus</th>\n",
       "      <th>stimulus_2</th>\n",
       "      <th>stimulus_block.1</th>\n",
       "      <th>stimulus_side.1</th>\n",
       "      <th>sub_block</th>\n",
       "      <th>subject</th>\n",
       "      <th>tags1</th>\n",
       "      <th>tags2</th>\n",
       "      <th>time_elapsed</th>\n",
       "      <th>trial_type</th>\n",
       "    </tr>\n",
       "  </thead>\n",
       "  <tbody>\n",
       "    <tr>\n",
       "      <th>0</th>\n",
       "      <td>0</td>\n",
       "      <td>NaN</td>\n",
       "      <td>NaN</td>\n",
       "      <td>NaN</td>\n",
       "      <td>NaN</td>\n",
       "      <td>NaN</td>\n",
       "      <td>37880.0</td>\n",
       "      <td>NaN</td>\n",
       "      <td>NaN</td>\n",
       "      <td>NaN</td>\n",
       "      <td>NaN</td>\n",
       "      <td>NaN</td>\n",
       "      <td>NaN</td>\n",
       "      <td>NaN</td>\n",
       "      <td>NaN</td>\n",
       "      <td>37881</td>\n",
       "      <td>instructions</td>\n",
       "    </tr>\n",
       "    <tr>\n",
       "      <th>1</th>\n",
       "      <td>1</td>\n",
       "      <td>0.0</td>\n",
       "      <td>training</td>\n",
       "      <td>1.0</td>\n",
       "      <td>D</td>\n",
       "      <td>NaN</td>\n",
       "      <td>4199.8</td>\n",
       "      <td>Training3.png</td>\n",
       "      <td>NaN</td>\n",
       "      <td>training</td>\n",
       "      <td>1.0</td>\n",
       "      <td>0.0</td>\n",
       "      <td>5.0</td>\n",
       "      <td>NaN</td>\n",
       "      <td>NaN</td>\n",
       "      <td>42309</td>\n",
       "      <td>bRMS</td>\n",
       "    </tr>\n",
       "    <tr>\n",
       "      <th>2</th>\n",
       "      <td>2</td>\n",
       "      <td>0.0</td>\n",
       "      <td>training</td>\n",
       "      <td>0.0</td>\n",
       "      <td>K</td>\n",
       "      <td>NaN</td>\n",
       "      <td>1642.0</td>\n",
       "      <td>Training10.png</td>\n",
       "      <td>NaN</td>\n",
       "      <td>training</td>\n",
       "      <td>0.0</td>\n",
       "      <td>0.0</td>\n",
       "      <td>5.0</td>\n",
       "      <td>NaN</td>\n",
       "      <td>NaN</td>\n",
       "      <td>44692</td>\n",
       "      <td>bRMS</td>\n",
       "    </tr>\n",
       "    <tr>\n",
       "      <th>3</th>\n",
       "      <td>3</td>\n",
       "      <td>0.0</td>\n",
       "      <td>training</td>\n",
       "      <td>0.0</td>\n",
       "      <td>K</td>\n",
       "      <td>NaN</td>\n",
       "      <td>1184.5</td>\n",
       "      <td>Training7.png</td>\n",
       "      <td>NaN</td>\n",
       "      <td>training</td>\n",
       "      <td>0.0</td>\n",
       "      <td>0.0</td>\n",
       "      <td>5.0</td>\n",
       "      <td>NaN</td>\n",
       "      <td>NaN</td>\n",
       "      <td>46503</td>\n",
       "      <td>bRMS</td>\n",
       "    </tr>\n",
       "    <tr>\n",
       "      <th>4</th>\n",
       "      <td>4</td>\n",
       "      <td>0.0</td>\n",
       "      <td>training</td>\n",
       "      <td>1.0</td>\n",
       "      <td>D</td>\n",
       "      <td>NaN</td>\n",
       "      <td>1133.9</td>\n",
       "      <td>Training6.png</td>\n",
       "      <td>NaN</td>\n",
       "      <td>training</td>\n",
       "      <td>1.0</td>\n",
       "      <td>0.0</td>\n",
       "      <td>5.0</td>\n",
       "      <td>NaN</td>\n",
       "      <td>NaN</td>\n",
       "      <td>48264</td>\n",
       "      <td>bRMS</td>\n",
       "    </tr>\n",
       "  </tbody>\n",
       "</table>\n",
       "</div>"
      ],
      "text/plain": [
       "   Unnamed: 0  block stimulus_block  stimulus_side key_press responses  \\\n",
       "0           0    NaN            NaN            NaN       NaN       NaN   \n",
       "1           1    0.0       training            1.0         D       NaN   \n",
       "2           2    0.0       training            0.0         K       NaN   \n",
       "3           3    0.0       training            0.0         K       NaN   \n",
       "4           4    0.0       training            1.0         D       NaN   \n",
       "\n",
       "        rt        stimulus stimulus_2 stimulus_block.1  stimulus_side.1  \\\n",
       "0  37880.0             NaN        NaN              NaN              NaN   \n",
       "1   4199.8   Training3.png        NaN         training              1.0   \n",
       "2   1642.0  Training10.png        NaN         training              0.0   \n",
       "3   1184.5   Training7.png        NaN         training              0.0   \n",
       "4   1133.9   Training6.png        NaN         training              1.0   \n",
       "\n",
       "   sub_block  subject tags1 tags2  time_elapsed    trial_type  \n",
       "0        NaN      NaN   NaN   NaN         37881  instructions  \n",
       "1        0.0      5.0   NaN   NaN         42309          bRMS  \n",
       "2        0.0      5.0   NaN   NaN         44692          bRMS  \n",
       "3        0.0      5.0   NaN   NaN         46503          bRMS  \n",
       "4        0.0      5.0   NaN   NaN         48264          bRMS  "
      ]
     },
     "execution_count": 242,
     "metadata": {},
     "output_type": "execute_result"
    }
   ],
   "source": [
    "df.head()"
   ]
  },
  {
   "cell_type": "code",
   "execution_count": 243,
   "metadata": {},
   "outputs": [
    {
     "data": {
      "text/plain": [
       "Index(['Unnamed: 0', 'block', 'stimulus_block', 'stimulus_side', 'key_press',\n",
       "       'responses', 'rt', 'stimulus', 'stimulus_2', 'stimulus_block.1',\n",
       "       'stimulus_side.1', 'sub_block', 'subject', 'tags1', 'tags2',\n",
       "       'time_elapsed', 'trial_type'],\n",
       "      dtype='object')"
      ]
     },
     "execution_count": 243,
     "metadata": {},
     "output_type": "execute_result"
    }
   ],
   "source": [
    "df.columns"
   ]
  },
  {
   "cell_type": "code",
   "execution_count": 244,
   "metadata": {},
   "outputs": [
    {
     "data": {
      "text/plain": [
       "array(['instructions', 'bRMS', 'survey-multi-choice', 'survey-likert'],\n",
       "      dtype=object)"
      ]
     },
     "execution_count": 244,
     "metadata": {},
     "output_type": "execute_result"
    }
   ],
   "source": [
    "df.trial_type.unique()"
   ]
  },
  {
   "cell_type": "markdown",
   "metadata": {},
   "source": [
    "# Divide to subjects"
   ]
  },
  {
   "cell_type": "code",
   "execution_count": 245,
   "metadata": {},
   "outputs": [],
   "source": [
    "def get_brms_missed_count(brms_df):\n",
    "    brms_missed = brms_df[((brms_df.key_press != 'K') & (brms_df.stimulus_side == 0)) | (\n",
    "            (brms_df.key_press != 'D') & (brms_df.stimulus_side == 1))]\n",
    "    return brms_missed.shape[0]"
   ]
  },
  {
   "cell_type": "code",
   "execution_count": 246,
   "metadata": {},
   "outputs": [],
   "source": [
    "def get_raw_rms_df(single_df, with_training=False):\n",
    "    if with_training:\n",
    "        return single_df[single_df.trial_type == 'bRMS']\n",
    "    else:\n",
    "        return single_df[(single_df.trial_type == 'bRMS') & (single_df.stimulus_block != \"training\")]\n"
   ]
  },
  {
   "cell_type": "code",
   "execution_count": 247,
   "metadata": {},
   "outputs": [],
   "source": [
    "df_lst = []\n",
    "one_df = pd.DataFrame()\n",
    "for index, row in df.iterrows():\n",
    "    if row['Unnamed: 0'] == 1 and not one_df.empty:\n",
    "        df_lst.append(one_df)\n",
    "        one_df = pd.DataFrame()\n",
    "    one_df = one_df.append(row)\n"
   ]
  },
  {
   "cell_type": "code",
   "execution_count": 248,
   "metadata": {},
   "outputs": [
    {
     "name": "stdout",
     "output_type": "stream",
     "text": [
      "6\n"
     ]
    }
   ],
   "source": [
    "print(len(df_lst))"
   ]
  },
  {
   "cell_type": "code",
   "execution_count": 249,
   "metadata": {},
   "outputs": [
    {
     "name": "stdout",
     "output_type": "stream",
     "text": [
      "(1, 17)\n",
      "(137, 17)\n",
      "(137, 17)\n",
      "(137, 17)\n",
      "(137, 17)\n",
      "(137, 17)\n"
     ]
    }
   ],
   "source": [
    "for single_df in df_lst:\n",
    "    print(single_df.shape)"
   ]
  },
  {
   "cell_type": "code",
   "execution_count": 250,
   "metadata": {},
   "outputs": [],
   "source": [
    "dfs = []\n",
    "for single_df in df_lst:\n",
    "    after_remove_training_df = pd.DataFrame()\n",
    "    dfs.append(single_df[single_df.stimulus_block != \"training\"])\n"
   ]
  },
  {
   "cell_type": "code",
   "execution_count": 251,
   "metadata": {},
   "outputs": [],
   "source": [
    "def get_rms_standards(brms_df, sd):\n",
    "    mean_rt = brms_df.rt.mean()\n",
    "    std_rt = brms_df.rt.std()\n",
    "    brms_standard_df = brms_df[(brms_df.rt > mean_rt - (sd * std_rt)) & (brms_df.rt < mean_rt + (sd * std_rt))]    \n",
    "    return brms_standard_df"
   ]
  },
  {
   "cell_type": "code",
   "execution_count": 252,
   "metadata": {},
   "outputs": [],
   "source": [
    "def remove_bad_boys(single_df, sd):\n",
    "    new_df = single_df[single_df.rt >= 200]\n",
    "    new_df = new_df[new_df.rt <= 10000]\n",
    "    new_df = new_df[new_df.key_press != -1]\n",
    "    new_df = new_df[new_df['key_press'].notna()]\n",
    "\n",
    "    new_df = get_rms_standards(new_df, sd)\n",
    "    return new_df"
   ]
  },
  {
   "cell_type": "code",
   "execution_count": 253,
   "metadata": {},
   "outputs": [],
   "source": [
    "after_correct = []\n",
    "for single_df in dfs:\n",
    "    after_correct.append(remove_bad_boys(single_df, 3))"
   ]
  },
  {
   "cell_type": "code",
   "execution_count": 254,
   "metadata": {},
   "outputs": [],
   "source": [
    "dfs = after_correct"
   ]
  },
  {
   "cell_type": "code",
   "execution_count": 255,
   "metadata": {},
   "outputs": [],
   "source": [
    "dfs = dfs[1:]"
   ]
  },
  {
   "cell_type": "code",
   "execution_count": 256,
   "metadata": {},
   "outputs": [],
   "source": [
    "def plot_rt_for_trial_index(single_df):\n",
    "    fig, ax = plt.subplots()\n",
    "    ax.scatter(single_df['Unnamed: 0'], single_df.rt)\n",
    "    ax.set_xlabel('Unnamed: 0')\n",
    "    ax.set_ylabel('rt')\n",
    "    plt.show()"
   ]
  },
  {
   "cell_type": "code",
   "execution_count": 257,
   "metadata": {},
   "outputs": [
    {
     "data": {
      "text/plain": [
       "5"
      ]
     },
     "execution_count": 257,
     "metadata": {},
     "output_type": "execute_result"
    }
   ],
   "source": [
    "len(dfs)"
   ]
  },
  {
   "cell_type": "code",
   "execution_count": 258,
   "metadata": {},
   "outputs": [
    {
     "data": {
      "image/png": "[encoded data removed]",
      "text/plain": [
       "<Figure size 432x288 with 1 Axes>"
      ]
     },
     "metadata": {
      "needs_background": "light"
     },
     "output_type": "display_data"
    },
    {
     "data": {
      "image/png": "[encoded data removed]",
      "text/plain": [
       "<Figure size 432x288 with 1 Axes>"
      ]
     },
     "metadata": {
      "needs_background": "light"
     },
     "output_type": "display_data"
    },
    {
     "data": {
      "image/png": "[encoded data removed]",
      "text/plain": [
       "<Figure size 432x288 with 1 Axes>"
      ]
     },
     "metadata": {
      "needs_background": "light"
     },
     "output_type": "display_data"
    },
    {
     "data": {
      "image/png": "[encoded data removed]",
      "text/plain": [
       "<Figure size 432x288 with 1 Axes>"
      ]
     },
     "metadata": {
      "needs_background": "light"
     },
     "output_type": "display_data"
    },
    {
     "data": {
      "image/png": "[encoded data removed]",
      "text/plain": [
       "<Figure size 432x288 with 1 Axes>"
      ]
     },
     "metadata": {
      "needs_background": "light"
     },
     "output_type": "display_data"
    }
   ],
   "source": [
    "for single_df in dfs:\n",
    "    plot_rt_for_trial_index(single_df)"
   ]
  },
  {
   "cell_type": "code",
   "execution_count": 259,
   "metadata": {},
   "outputs": [],
   "source": [
    "def get_won(row):\n",
    "    if row.key_press == 'K':\n",
    "        return row.tags1[2:3]\n",
    "    elif row.key_press == 'D':\n",
    "        return row.tags2[2:3]\n"
   ]
  },
  {
   "cell_type": "code",
   "execution_count": 260,
   "metadata": {},
   "outputs": [],
   "source": [
    "for single_df in dfs:\n",
    "    single_df['won'] = single_df.apply(get_won, axis=1)"
   ]
  },
  {
   "cell_type": "code",
   "execution_count": 261,
   "metadata": {},
   "outputs": [
    {
     "name": "stdout",
     "output_type": "stream",
     "text": [
      "['D' 'K']\n",
      "['K' 'D']\n",
      "['K' 'D']\n",
      "['D' 'K']\n",
      "['K' 'D']\n"
     ]
    }
   ],
   "source": [
    "for single_df in dfs:\n",
    "    print(single_df.key_press.unique())"
   ]
  },
  {
   "cell_type": "code",
   "execution_count": 262,
   "metadata": {},
   "outputs": [
    {
     "name": "stdout",
     "output_type": "stream",
     "text": [
      "['B' 'A' 'A' 'B' 'A' 'B' 'A' 'A' 'A' 'A' 'A' 'A' 'A' 'A' 'A' 'B' 'B' 'B'\n",
      " 'C' 'C' 'B' 'B' 'C' 'B' 'C' 'B' 'B' 'B' 'B' 'B' 'B' 'B' 'A' 'A' 'A' 'A'\n",
      " 'A' 'A' 'A' 'C' 'A' 'A' 'A' 'A' 'C' 'A' 'A' 'A' 'A' 'B' 'B' 'B' 'B' 'B'\n",
      " 'B' 'B' 'B' 'B' 'B' 'B' 'B' 'B' 'B' 'B' 'B' 'B' 'D' 'D' 'D' 'D' 'E' 'E'\n",
      " 'D' 'D' 'D' 'D' 'D' 'D' 'D' 'D' 'D' 'D' 'D' 'C' 'C' 'C' 'C' 'D' 'C' 'C'\n",
      " 'C' 'C' 'C' 'D' 'C' 'D' 'D' 'C' 'D' 'C' 'E' 'E' 'E' 'C' 'C' 'E' 'E' 'E'\n",
      " 'E' 'C' 'C' 'E' 'C' 'E' 'E' 'C' 'E' 'C']\n",
      "['A' 'B' 'B' 'B' 'B' 'A' 'A' 'A' 'A' 'B' 'B' 'B' 'B' 'B' 'B' 'A' 'A' 'C'\n",
      " 'B' 'C' 'B' 'B' 'C' 'B' 'B' 'B' 'C' 'B' 'C' 'B' 'B' 'B' 'C' 'C' 'C' 'C'\n",
      " 'A' 'A' 'C' 'A' 'C' 'C' 'C' 'A' 'A' 'C' 'C' 'A' 'B' 'B' 'D' 'B' 'D' 'D'\n",
      " 'D' 'B' 'D' 'B' 'B' 'D' 'B' 'D' 'D' 'B' 'C' 'D' 'D' 'C' 'C' 'D' 'C' 'C'\n",
      " 'D' 'C' 'C' 'D' 'D' 'C' 'C' 'D' 'D' 'E' 'C' 'E' 'E' 'C' 'E' 'C' 'C' 'C'\n",
      " 'E' 'C' 'C' 'C' 'C' 'E' 'C' 'E' 'E' 'D' 'D' 'D' 'E' 'D' 'D' 'D' 'D' 'E'\n",
      " 'E' 'E' 'E' 'D' 'D' 'D' 'E' 'D']\n",
      "['A' 'B' 'A' 'A' 'B' 'A' 'B' 'A' 'B' 'B' 'A' 'A' 'A' 'B' 'A' 'A' 'A' 'B'\n",
      " 'B' 'B' 'B' 'B' 'B' 'C' 'B' 'B' 'C' 'C' 'C' 'C' 'C' 'A' 'A' 'C' 'C' 'A'\n",
      " 'C' 'A' 'A' 'A' 'A' 'C' 'C' 'A' 'D' 'B' 'D' 'B' 'B' 'B' 'B' 'D' 'D' 'D'\n",
      " 'D' 'D' 'D' 'B' 'B' 'B' 'D' 'C' 'C' 'D' 'D' 'C' 'C' 'D' 'D' 'C' 'D' 'D'\n",
      " 'D' 'C' 'D' 'C' 'D' 'C' 'E' 'E' 'C' 'E' 'E' 'E' 'C' 'C' 'E' 'E' 'C' 'C'\n",
      " 'E' 'E' 'E' 'C' 'E' 'D' 'D' 'D' 'E' 'E' 'E' 'D' 'E' 'D' 'E' 'D' 'D' 'E'\n",
      " 'D' 'D' 'D' 'E']\n",
      "['B' 'A' 'B' 'B' 'A' 'B' 'A' 'A' 'B' 'A' 'A' 'B' 'A' 'B' 'A' 'B' 'A' 'C'\n",
      " 'B' 'B' 'C' 'C' 'C' 'B' 'C' 'B' 'C' 'C' 'C' 'B' 'C' 'B' 'C' 'B' 'C' 'C'\n",
      " 'A' 'C' 'C' 'A' 'C' 'A' 'A' 'C' 'A' 'C' 'A' 'C' 'A' 'A' 'A' 'D' 'D' 'B'\n",
      " 'D' 'D' 'D' 'B' 'D' 'D' 'D' 'B' 'D' 'D' 'B' 'D' 'D' 'D' 'C' 'D' 'D' 'D'\n",
      " 'D' 'D' 'D' 'C' 'D' 'D' 'D' 'D' 'D' 'D' 'C' 'E' 'E' 'E' 'E' 'C' 'E' 'C'\n",
      " 'E' 'C' 'E' 'C' 'C' 'E' 'E' 'E' 'E' 'E' 'C' 'E' 'E' 'D' 'D' 'D' 'E' 'E'\n",
      " 'E' 'D' 'E' 'E' 'E' 'D' 'D' 'D' 'E' 'D']\n",
      "['A' 'A' 'A' 'A' 'A' 'B' 'B' 'A' 'B' 'B' 'A' 'A' 'A' 'A' 'B' 'B' 'B' 'B'\n",
      " 'C' 'B' 'C' 'B' 'C' 'B' 'C' 'B' 'C' 'C' 'C' 'C' 'B' 'B' 'A' 'A' 'C' 'C'\n",
      " 'A' 'A' 'C' 'A' 'A' 'A' 'A' 'A' 'C' 'C' 'C' 'C' 'D' 'B' 'B' 'B' 'B' 'D'\n",
      " 'B' 'B' 'B' 'B' 'D' 'B' 'D' 'D' 'D' 'D' 'B' 'E' 'C' 'C' 'E' 'E' 'C' 'C'\n",
      " 'C' 'C' 'E' 'E' 'C' 'C' 'C' 'E' 'E' 'E' 'E' 'D' 'E' 'E' 'D' 'E' 'D' 'D'\n",
      " 'D' 'D' 'D' 'E' 'E' 'E' 'D' 'D' 'E' 'D' 'C' 'D' 'C' 'C' 'D' 'D' 'C' 'C'\n",
      " 'C' 'C' 'C' 'C' 'C' 'D' 'D' 'D' 'D']\n"
     ]
    }
   ],
   "source": [
    "for single_df in dfs:\n",
    "    print(single_df.won.values)"
   ]
  },
  {
   "cell_type": "code",
   "execution_count": 263,
   "metadata": {},
   "outputs": [],
   "source": [
    "def reapeted_measure_anova(single_df):\n",
    "    return single_df.groupby(['stimulus_block', 'trial_type']).rt.mean().reset_index()"
   ]
  },
  {
   "cell_type": "code",
   "execution_count": 264,
   "metadata": {},
   "outputs": [],
   "source": [
    "def plot_won_and_rt(single_df):\n",
    "    fig, ax = plt.subplots()\n",
    "    ax.scatter(single_df['won'], single_df.rt)\n",
    "    ax.set_xlabel('won')\n",
    "    ax.set_ylabel('rt')\n",
    "    plt.show()"
   ]
  },
  {
   "cell_type": "code",
   "execution_count": 265,
   "metadata": {},
   "outputs": [
    {
     "data": {
      "image/png": "[encoded data removed]",
      "text/plain": [
       "<Figure size 432x288 with 1 Axes>"
      ]
     },
     "metadata": {
      "needs_background": "light"
     },
     "output_type": "display_data"
    },
    {
     "data": {
      "image/png": "[encoded data removed]",
      "text/plain": [
       "<Figure size 432x288 with 1 Axes>"
      ]
     },
     "metadata": {
      "needs_background": "light"
     },
     "output_type": "display_data"
    },
    {
     "data": {
      "image/png": "[encoded data removed]",
      "text/plain": [
       "<Figure size 432x288 with 1 Axes>"
      ]
     },
     "metadata": {
      "needs_background": "light"
     },
     "output_type": "display_data"
    },
    {
     "data": {
      "image/png": "[encoded data removed]",
      "text/plain": [
       "<Figure size 432x288 with 1 Axes>"
      ]
     },
     "metadata": {
      "needs_background": "light"
     },
     "output_type": "display_data"
    },
    {
     "data": {
      "image/png": "[encoded data removed]",
      "text/plain": [
       "<Figure size 432x288 with 1 Axes>"
      ]
     },
     "metadata": {
      "needs_background": "light"
     },
     "output_type": "display_data"
    }
   ],
   "source": [
    "for single_df in dfs:\n",
    "    plot_won_and_rt(single_df)"
   ]
  }
 ],
 "metadata": {
  "interpreter": {
   "hash": "5e49d1d782d0c81664cfef69a5a300da04b0c8dd1f7059897730ec0e8bf9da48"
  },
  "kernelspec": {
   "display_name": "Python 3.9.7 ('base')",
   "language": "python",
   "name": "python3"
  },
  "language_info": {
   "codemirror_mode": {
    "name": "ipython",
    "version": 3
   },
   "file_extension": ".py",
   "mimetype": "text/x-python",
   "name": "python",
   "nbconvert_exporter": "python",
   "pygments_lexer": "ipython3",
   "version": "3.9.7"
  },
  "orig_nbformat": 4
 },
 "nbformat": 4,
 "nbformat_minor": 2
}
